import pandas as pd
import re


f = open('WhatsApp_Chat.txt','r',encoding='utf-8')


data = f.read()


type(data)


pattern = r"(\d{1,2}/\d{1,2}/\d{2,4}), (\d{1,2}:\d{2}\s?[APap][Mm]) - (.*)"
matches = re.findall(pattern, data)
df = pd.DataFrame(matches, columns=["Date", "Time", "Message"])


df["DateTime"] = df["Date"] + " " + df["Time"]
df = df[["DateTime", "Message"]]


df


df.shape


users = []
messages = []
for message in df['Message'] :
    entry = re.split('([\w,\W]+?):\s',message)
    if entry[1:]:
        users.append(entry[1])
        messages.append(entry[2])
    else:
        users.append('group_notification')
        messages.append(entry[0])
df['users'] = users
df['message'] = messages
df.drop(columns=['Message'],inplace=True)

df.head()


df.sample(10)


df.info()


df["DateTime"] = pd.to_datetime(df["DateTime"], format="%d/%m/%y %I:%M %p")


df['year'] = df['DateTime'].dt.year


df['month'] = df['DateTime'].dt.month_name()


df['day'] = df['DateTime'].dt.day


df['hour'] = df['DateTime'].dt.hour


df['minute'] = df['DateTime'].dt.minute


df.sample(10)


df





temp = df[df['users'] != 'group_notification']
temp = temp[temp['message']!='<Media omitted>']


f = open('marathi_minglish_stopwords.txt','r')
stop_words = f.read()
print(stop_words)


words = []
for message in temp['message']:
    for word in message.lower().split():
        if word not in stop_words:
            words.append(word)


from collections import Counter
pd.DataFrame(Counter(words).most_common(20))


!pip install streamlit




